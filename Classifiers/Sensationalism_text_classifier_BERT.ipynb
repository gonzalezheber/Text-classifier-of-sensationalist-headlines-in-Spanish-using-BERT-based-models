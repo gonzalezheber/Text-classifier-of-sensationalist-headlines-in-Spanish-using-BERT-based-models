{
  "cells": [
    {
      "cell_type": "markdown",
      "metadata": {
        "id": "lAnawBdbSvlD"
      },
      "source": [
        "## Importing the libraries needed"
      ],
      "id": "lAnawBdbSvlD"
    },
    {
      "cell_type": "code",
      "source": [
        "!pip install ktrain"
      ],
      "metadata": {
        "id": "g__EtMKrTG0j"
      },
      "id": "g__EtMKrTG0j",
      "execution_count": null,
      "outputs": []
    },
    {
      "cell_type": "code",
      "execution_count": 2,
      "metadata": {
        "id": "Hf_FpwewSvlF"
      },
      "outputs": [],
      "source": [
        "import ktrain\n",
        "from ktrain import text\n",
        "import pandas as pd\n",
        "from sklearn.model_selection import train_test_split\n",
        "import numpy\n",
        "from matplotlib import pyplot as plt\n",
        "import seaborn as sn\n",
        "from sklearn.metrics import confusion_matrix"
      ],
      "id": "Hf_FpwewSvlF"
    },
    {
      "cell_type": "markdown",
      "metadata": {
        "id": "_fWLrpGvSvlH"
      },
      "source": [
        "## Creating a dataframe using pandas"
      ],
      "id": "_fWLrpGvSvlH"
    },
    {
      "cell_type": "markdown",
      "source": [
        "The training and testing sets have already been formed using the train_test_split function, in a 90/10 ratio\n"
      ],
      "metadata": {
        "id": "7uLbV22g26gH"
      },
      "id": "7uLbV22g26gH"
    },
    {
      "cell_type": "code",
      "execution_count": 5,
      "metadata": {
        "id": "AVOGyqcCSvlH"
      },
      "outputs": [],
      "source": [
        "training_set = pd.read_csv('training.csv',encoding=\"UTF-8\")\n",
        "testing_set = pd.read_csv('testing.csv', encoding=\"UTF-8\")"
      ],
      "id": "AVOGyqcCSvlH"
    },
    {
      "cell_type": "markdown",
      "metadata": {
        "id": "P6qtopdcSvlK"
      },
      "source": [
        "## Splitting the dataframe into a training set and a validation set by 70/30"
      ],
      "id": "P6qtopdcSvlK"
    },
    {
      "cell_type": "code",
      "execution_count": 6,
      "metadata": {
        "id": "q67cfY52SvlL"
      },
      "outputs": [],
      "source": [
        "X_train, X_test, y_train, y_test = train_test_split(training_set['encabezado'], training_set['clase'], shuffle = True, test_size = 0.2)"
      ],
      "id": "q67cfY52SvlL"
    },
    {
      "cell_type": "markdown",
      "metadata": {
        "id": "gDxThdXISvlL"
      },
      "source": [
        "## Converting data to features for BERT"
      ],
      "id": "gDxThdXISvlL"
    },
    {
      "cell_type": "code",
      "execution_count": 7,
      "metadata": {
        "id": "V7uDNyzxSvlL"
      },
      "outputs": [],
      "source": [
        "X_train = numpy.array(X_train)\n",
        "X_test = numpy.array(X_test)\n",
        "y_train = numpy.array(y_train)\n",
        "y_test = numpy.array(y_test)"
      ],
      "id": "V7uDNyzxSvlL"
    },
    {
      "cell_type": "code",
      "execution_count": 8,
      "metadata": {
        "colab": {
          "base_uri": "https://localhost:8080/",
          "height": 295
        },
        "id": "yehRg5sBSvlM",
        "outputId": "6b34d50f-959e-4e4a-97e5-5b4a9f14cf3c"
      },
      "outputs": [
        {
          "output_type": "stream",
          "name": "stdout",
          "text": [
            "downloading pretrained BERT model (multi_cased_L-12_H-768_A-12.zip)...\n",
            "[██████████████████████████████████████████████████]\n",
            "extracting pretrained BERT model...\n",
            "done.\n",
            "\n",
            "cleanup downloaded zip...\n",
            "done.\n",
            "\n",
            "preprocessing train...\n",
            "language: es\n"
          ]
        },
        {
          "output_type": "display_data",
          "data": {
            "text/plain": [
              "<IPython.core.display.HTML object>"
            ],
            "text/html": [
              "\n",
              "<style>\n",
              "    /* Turns off some styling */\n",
              "    progress {\n",
              "        /* gets rid of default border in Firefox and Opera. */\n",
              "        border: none;\n",
              "        /* Needs to be in here for Safari polyfill so background images work as expected. */\n",
              "        background-size: auto;\n",
              "    }\n",
              "    progress:not([value]), progress:not([value])::-webkit-progress-bar {\n",
              "        background: repeating-linear-gradient(45deg, #7e7e7e, #7e7e7e 10px, #5c5c5c 10px, #5c5c5c 20px);\n",
              "    }\n",
              "    .progress-bar-interrupted, .progress-bar-interrupted::-webkit-progress-bar {\n",
              "        background: #F44336;\n",
              "    }\n",
              "</style>\n"
            ]
          },
          "metadata": {}
        },
        {
          "output_type": "display_data",
          "data": {
            "text/plain": [
              "<IPython.core.display.HTML object>"
            ],
            "text/html": [
              "done."
            ]
          },
          "metadata": {}
        },
        {
          "output_type": "stream",
          "name": "stdout",
          "text": [
            "Is Multi-Label? False\n",
            "preprocessing test...\n",
            "language: es\n"
          ]
        },
        {
          "output_type": "display_data",
          "data": {
            "text/plain": [
              "<IPython.core.display.HTML object>"
            ],
            "text/html": [
              "\n",
              "<style>\n",
              "    /* Turns off some styling */\n",
              "    progress {\n",
              "        /* gets rid of default border in Firefox and Opera. */\n",
              "        border: none;\n",
              "        /* Needs to be in here for Safari polyfill so background images work as expected. */\n",
              "        background-size: auto;\n",
              "    }\n",
              "    progress:not([value]), progress:not([value])::-webkit-progress-bar {\n",
              "        background: repeating-linear-gradient(45deg, #7e7e7e, #7e7e7e 10px, #5c5c5c 10px, #5c5c5c 20px);\n",
              "    }\n",
              "    .progress-bar-interrupted, .progress-bar-interrupted::-webkit-progress-bar {\n",
              "        background: #F44336;\n",
              "    }\n",
              "</style>\n"
            ]
          },
          "metadata": {}
        },
        {
          "output_type": "display_data",
          "data": {
            "text/plain": [
              "<IPython.core.display.HTML object>"
            ],
            "text/html": [
              "done."
            ]
          },
          "metadata": {}
        },
        {
          "output_type": "stream",
          "name": "stdout",
          "text": [
            "task: text classification\n"
          ]
        }
      ],
      "source": [
        "(X_train_bert, y_train_bert), (X_test_bert, y_test_bert), preproc = text.texts_from_array(x_train = X_train, y_train = y_train, x_test = X_test, y_test = y_test, \n",
        "                                                                                 class_names = ['0', '1'], preprocess_mode = 'bert', lang = 'es', \n",
        "                                                                                 maxlen = 128)"
      ],
      "id": "yehRg5sBSvlM"
    },
    {
      "cell_type": "markdown",
      "metadata": {
        "id": "DshpDAuwSvlM"
      },
      "source": [
        "## Loading BERT in a learner object"
      ],
      "id": "DshpDAuwSvlM"
    },
    {
      "cell_type": "code",
      "execution_count": 9,
      "metadata": {
        "id": "fS8k2s2KSvlN",
        "colab": {
          "base_uri": "https://localhost:8080/"
        },
        "outputId": "d8b6c468-e3e5-4dc5-eecb-b776d0a29032"
      },
      "outputs": [
        {
          "output_type": "stream",
          "name": "stdout",
          "text": [
            "Is Multi-Label? False\n",
            "maxlen is 128\n"
          ]
        },
        {
          "output_type": "stream",
          "name": "stderr",
          "text": [
            "/usr/local/lib/python3.9/dist-packages/keras/initializers/initializers_v2.py:120: UserWarning: The initializer GlorotNormal is unseeded and being called multiple times, which will return identical values  each time (even if the initializer is unseeded). Please update your code to provide a seed to the initializer, or avoid using the same initalizer instance more than once.\n",
            "  warnings.warn(\n"
          ]
        },
        {
          "output_type": "stream",
          "name": "stdout",
          "text": [
            "done.\n"
          ]
        }
      ],
      "source": [
        "model = text.text_classifier('bert', train_data = (X_train_bert, y_train_bert), preproc = preproc)\n",
        "learner = ktrain.get_learner(model, train_data = (X_train_bert, y_train_bert), val_data = (X_test_bert, y_test_bert), batch_size = 16)"
      ],
      "id": "fS8k2s2KSvlN"
    },
    {
      "cell_type": "markdown",
      "metadata": {
        "id": "dz9kMJZbSvlN"
      },
      "source": [
        "## Using the function lr_find(), we can find the best learning rate for the model"
      ],
      "id": "dz9kMJZbSvlN"
    },
    {
      "cell_type": "code",
      "execution_count": 10,
      "metadata": {
        "colab": {
          "base_uri": "https://localhost:8080/"
        },
        "id": "vx5HtHV_SvlO",
        "outputId": "1c927866-3a7b-433c-948c-1a87b7194a2c"
      },
      "outputs": [
        {
          "output_type": "stream",
          "name": "stdout",
          "text": [
            "simulating training for different learning rates... this may take a few moments...\n",
            "Epoch 1/1024\n",
            "99/99 [==============================] - 63s 440ms/step - loss: 0.6933 - accuracy: 0.5114\n",
            "Epoch 2/1024\n",
            "99/99 [==============================] - 44s 449ms/step - loss: 0.6834 - accuracy: 0.5587\n",
            "Epoch 3/1024\n",
            "99/99 [==============================] - 45s 456ms/step - loss: 0.6499 - accuracy: 0.6402\n",
            "Epoch 4/1024\n",
            "99/99 [==============================] - 46s 460ms/step - loss: 0.4948 - accuracy: 0.7715\n",
            "Epoch 5/1024\n",
            "99/99 [==============================] - 46s 463ms/step - loss: 0.2820 - accuracy: 0.8908\n",
            "Epoch 6/1024\n",
            "99/99 [==============================] - 46s 466ms/step - loss: 0.1707 - accuracy: 0.9413\n",
            "Epoch 7/1024\n",
            "99/99 [==============================] - 46s 467ms/step - loss: 0.1833 - accuracy: 0.9287\n",
            "Epoch 8/1024\n",
            "99/99 [==============================] - 46s 468ms/step - loss: 0.6116 - accuracy: 0.6105\n",
            "Epoch 9/1024\n",
            "99/99 [==============================] - 15s 153ms/step - loss: 0.7328 - accuracy: 0.5038\n",
            "\n",
            "\n",
            "done.\n",
            "Please invoke the Learner.lr_plot() method to visually inspect the loss plot to help identify the maximal learning rate associated with falling loss.\n"
          ]
        }
      ],
      "source": [
        "learner.lr_find()"
      ],
      "id": "vx5HtHV_SvlO"
    },
    {
      "cell_type": "markdown",
      "metadata": {
        "id": "M3PHc138SvlO"
      },
      "source": [
        "### A visual representation of the loss "
      ],
      "id": "M3PHc138SvlO"
    },
    {
      "cell_type": "code",
      "execution_count": 11,
      "metadata": {
        "scrolled": true,
        "colab": {
          "base_uri": "https://localhost:8080/",
          "height": 352
        },
        "id": "kLvkaGKqSvlO",
        "outputId": "04e5b24d-df9c-4aba-f2ac-3a0ec33a5036"
      },
      "outputs": [
        {
          "output_type": "stream",
          "name": "stdout",
          "text": [
            "Three possible suggestions for LR from plot:\n",
            "\tLongest valley (red): 3.82E-06\n",
            "\tMin numerical gradient (purple): 4.01E-06\n",
            "\tMin loss divided by 10 (omitted from plot): 5.72E-06\n"
          ]
        },
        {
          "output_type": "display_data",
          "data": {
            "text/plain": [
              "<Figure size 432x288 with 1 Axes>"
            ],
            "image/png": "[encoded data removed]"
          },
          "metadata": {
            "needs_background": "light"
          }
        }
      ],
      "source": [
        "learner.lr_plot(suggest='true')"
      ],
      "id": "kLvkaGKqSvlO"
    },
    {
      "cell_type": "markdown",
      "metadata": {
        "id": "aPKEbmFFSvlP"
      },
      "source": [
        "## Using that learning rate, the model is trained"
      ],
      "id": "aPKEbmFFSvlP"
    },
    {
      "cell_type": "code",
      "execution_count": 12,
      "metadata": {
        "scrolled": true,
        "colab": {
          "base_uri": "https://localhost:8080/"
        },
        "id": "aNl8yT6dSvlP",
        "outputId": "c0bd94c4-002f-44c6-a55a-b87a202b4ce7"
      },
      "outputs": [
        {
          "output_type": "stream",
          "name": "stdout",
          "text": [
            "early_stopping automatically enabled at patience=5\n",
            "reduce_on_plateau automatically enabled at patience=2\n",
            "\n",
            "\n",
            "begin training using triangular learning rate policy with max lr of 4.01e-06...\n",
            "Epoch 1/1024\n",
            "99/99 [==============================] - 72s 553ms/step - loss: 0.6609 - accuracy: 0.6016 - val_loss: 0.5765 - val_accuracy: 0.7273\n",
            "Epoch 2/1024\n",
            "99/99 [==============================] - 50s 502ms/step - loss: 0.5156 - accuracy: 0.7645 - val_loss: 0.4289 - val_accuracy: 0.8131\n",
            "Epoch 3/1024\n",
            "99/99 [==============================] - 52s 522ms/step - loss: 0.3819 - accuracy: 0.8340 - val_loss: 0.3028 - val_accuracy: 0.8662\n",
            "Epoch 4/1024\n",
            "99/99 [==============================] - 50s 510ms/step - loss: 0.2785 - accuracy: 0.8965 - val_loss: 0.2364 - val_accuracy: 0.8990\n",
            "Epoch 5/1024\n",
            "99/99 [==============================] - 51s 513ms/step - loss: 0.2124 - accuracy: 0.9167 - val_loss: 0.2323 - val_accuracy: 0.9040\n",
            "Epoch 6/1024\n",
            "99/99 [==============================] - 51s 514ms/step - loss: 0.1447 - accuracy: 0.9508 - val_loss: 0.2079 - val_accuracy: 0.9141\n",
            "Epoch 7/1024\n",
            "99/99 [==============================] - 50s 509ms/step - loss: 0.1133 - accuracy: 0.9590 - val_loss: 0.2172 - val_accuracy: 0.9318\n",
            "Epoch 8/1024\n",
            "99/99 [==============================] - 51s 516ms/step - loss: 0.0849 - accuracy: 0.9735 - val_loss: 0.1987 - val_accuracy: 0.9293\n",
            "Epoch 9/1024\n",
            "99/99 [==============================] - 50s 510ms/step - loss: 0.0617 - accuracy: 0.9823 - val_loss: 0.2086 - val_accuracy: 0.9293\n",
            "Epoch 10/1024\n",
            "99/99 [==============================] - ETA: 0s - loss: 0.0505 - accuracy: 0.9842\n",
            "Epoch 00010: Reducing Max LR on Plateau: new max lr will be 2.005e-06 (if not early_stopping).\n",
            "99/99 [==============================] - 52s 524ms/step - loss: 0.0505 - accuracy: 0.9842 - val_loss: 0.2413 - val_accuracy: 0.9293\n",
            "Epoch 11/1024\n",
            "99/99 [==============================] - 50s 509ms/step - loss: 0.0309 - accuracy: 0.9924 - val_loss: 0.2258 - val_accuracy: 0.9318\n",
            "Epoch 12/1024\n",
            "99/99 [==============================] - ETA: 0s - loss: 0.0325 - accuracy: 0.9912\n",
            "Epoch 00012: Reducing Max LR on Plateau: new max lr will be 1.0025e-06 (if not early_stopping).\n",
            "99/99 [==============================] - 52s 524ms/step - loss: 0.0325 - accuracy: 0.9912 - val_loss: 0.2299 - val_accuracy: 0.9419\n",
            "Epoch 13/1024\n",
            "99/99 [==============================] - ETA: 0s - loss: 0.0192 - accuracy: 0.9975Restoring model weights from the end of the best epoch: 8.\n",
            "99/99 [==============================] - 51s 514ms/step - loss: 0.0192 - accuracy: 0.9975 - val_loss: 0.2371 - val_accuracy: 0.9318\n",
            "Epoch 13: early stopping\n",
            "Weights from best epoch have been loaded into model.\n"
          ]
        },
        {
          "output_type": "execute_result",
          "data": {
            "text/plain": [
              "<keras.callbacks.History at 0x7f40a1003760>"
            ]
          },
          "metadata": {},
          "execution_count": 12
        }
      ],
      "source": [
        "learner.autofit(4.01E-06)"
      ],
      "id": "aNl8yT6dSvlP"
    },
    {
      "cell_type": "markdown",
      "metadata": {
        "id": "CQar52r_SvlP"
      },
      "source": [
        "## Validation of the model using the validation set"
      ],
      "id": "CQar52r_SvlP"
    },
    {
      "cell_type": "code",
      "execution_count": 13,
      "metadata": {
        "scrolled": true,
        "colab": {
          "base_uri": "https://localhost:8080/"
        },
        "id": "GUghorJtSvlQ",
        "outputId": "f553dba4-e6bc-4a3b-b4b6-547187336353"
      },
      "outputs": [
        {
          "output_type": "stream",
          "name": "stdout",
          "text": [
            "13/13 [==============================] - 8s 250ms/step\n",
            "              precision    recall  f1-score   support\n",
            "\n",
            "           0       0.94      0.92      0.93       200\n",
            "           1       0.92      0.94      0.93       196\n",
            "\n",
            "    accuracy                           0.93       396\n",
            "   macro avg       0.93      0.93      0.93       396\n",
            "weighted avg       0.93      0.93      0.93       396\n",
            "\n"
          ]
        },
        {
          "output_type": "execute_result",
          "data": {
            "text/plain": [
              "array([[183,  17],\n",
              "       [ 11, 185]])"
            ]
          },
          "metadata": {},
          "execution_count": 13
        }
      ],
      "source": [
        "learner.validate(val_data = (X_test_bert, y_test_bert))"
      ],
      "id": "GUghorJtSvlQ"
    },
    {
      "cell_type": "markdown",
      "metadata": {
        "id": "s9O5j1-qSvlQ"
      },
      "source": [
        "## Creating a predictor using the trained model"
      ],
      "id": "s9O5j1-qSvlQ"
    },
    {
      "cell_type": "code",
      "execution_count": 14,
      "metadata": {
        "id": "yl2PeBKzSvlQ"
      },
      "outputs": [],
      "source": [
        "predictor = ktrain.get_predictor(learner.model, preproc)"
      ],
      "id": "yl2PeBKzSvlQ"
    },
    {
      "cell_type": "markdown",
      "metadata": {
        "id": "z2-XjAMPSvlR"
      },
      "source": [
        "## Confusion Matrix for the validation results"
      ],
      "id": "z2-XjAMPSvlR"
    },
    {
      "cell_type": "code",
      "execution_count": 17,
      "metadata": {
        "id": "WmbnPB94SvlR"
      },
      "outputs": [],
      "source": [
        "test_headlines = numpy.array(testing_set['encabezado'])\n",
        "test_class = numpy.array(testing_set['clase'])"
      ],
      "id": "WmbnPB94SvlR"
    },
    {
      "cell_type": "code",
      "execution_count": 18,
      "metadata": {
        "id": "0HtnC1bASvlR"
      },
      "outputs": [],
      "source": [
        "p = predictor.predict(test_headlines)"
      ],
      "id": "0HtnC1bASvlR"
    },
    {
      "cell_type": "code",
      "execution_count": 20,
      "metadata": {
        "scrolled": true,
        "colab": {
          "base_uri": "https://localhost:8080/",
          "height": 442
        },
        "id": "R5JCrBe-SvlS",
        "outputId": "47ce5afc-a795-4ef7-e673-3463707301fc"
      },
      "outputs": [
        {
          "output_type": "display_data",
          "data": {
            "text/plain": [
              "<Figure size 720x504 with 2 Axes>"
            ],
            "image/png": "[encoded data removed]"
          },
          "metadata": {
            "needs_background": "light"
          }
        }
      ],
      "source": [
        "cm = confusion_matrix(p, test_class)\n",
        "fig, ax = plt.subplots(figsize=(10, 7))\n",
        "sn.heatmap(cm, annot=True, fmt='d', cmap='Blues', ax=ax)\n",
        "plt.xlabel('Predicted')\n",
        "plt.ylabel('Truth')\n",
        "fig.savefig('cm.png')"
      ],
      "id": "R5JCrBe-SvlS"
    },
    {
      "cell_type": "code",
      "execution_count": 21,
      "metadata": {
        "colab": {
          "base_uri": "https://localhost:8080/"
        },
        "id": "sVufeP1vSvlS",
        "outputId": "aa60c263-bfa1-4d53-8263-44c1b08b3834"
      },
      "outputs": [
        {
          "output_type": "stream",
          "name": "stdout",
          "text": [
            "              precision    recall  f1-score   support\n",
            "\n",
            "           0       0.90      0.91      0.90       108\n",
            "           1       0.91      0.90      0.91       112\n",
            "\n",
            "    accuracy                           0.90       220\n",
            "   macro avg       0.90      0.90      0.90       220\n",
            "weighted avg       0.90      0.90      0.90       220\n",
            "\n"
          ]
        }
      ],
      "source": [
        "from sklearn.metrics import classification_report\n",
        "target_names = ['0', '1']\n",
        "print(classification_report(test_class, p))"
      ],
      "id": "sVufeP1vSvlS"
    }
  ],
  "metadata": {
    "kernelspec": {
      "display_name": "Python 3",
      "language": "python",
      "name": "python3"
    },
    "language_info": {
      "codemirror_mode": {
        "name": "ipython",
        "version": 3
      },
      "file_extension": ".py",
      "mimetype": "text/x-python",
      "name": "python",
      "nbconvert_exporter": "python",
      "pygments_lexer": "ipython3",
      "version": "3.8.3"
    },
    "colab": {
      "provenance": []
    },
    "accelerator": "GPU",
    "gpuClass": "standard"
  },
  "nbformat": 4,
  "nbformat_minor": 5
}